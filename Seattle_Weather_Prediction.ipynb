{
 "cells": [
  {
   "cell_type": "markdown",
   "metadata": {
    "id": "ZyYWZAQ2xu0G"
   },
   "source": [
    "<center><img src=\"https://github.com/girishksahu/INSAID2021/blob/SMART_AI_Learning/INSAID_Full%20Logo.png?raw=true\" width=\"240\" height=\"100\" /></center>"
   ]
  },
  {
   "cell_type": "markdown",
   "metadata": {
    "id": "5mkv4UHgEipa"
   },
   "source": [
    "<h1><center>Machine Learning Advanced Project - Seattle Weather Prediction</center><h1>"
   ]
  },
  {
   "cell_type": "markdown",
   "metadata": {
    "id": "ssyIiSn2Eipb"
   },
   "source": [
    "<center><img width=40% src=\"https://github.com/girishksahu/INSAID2021-ML-Advanced-Seattle_Weather_Prediction/blob/SMART_AI_Learning/meteomate-logo.png?raw=true\"></center>"
   ]
  },
  {
   "cell_type": "markdown",
   "metadata": {
    "id": "Rrs4ecLVxxyB"
   },
   "source": [
    "---\n",
    "# **Table of Contents**\n",
    "---\n",
    "\n",
    "**1.** [**Introduction**](#Section1)<br>\n",
    "**2.** [**Problem Statement**](#Section2)<br>\n",
    "**3.** [**Importing Libraries**](#Section3)<br>\n",
    "  - **3.1** [**Version Check**](#Section31)\n",
    "  - **3.2** [**Importing Libraries**](#Section32)\n",
    "\n",
    "**4.** [**Data Acquisition & Description**](#Section4)<br>\n",
    "  - **4.1** [**Data Description**](#Section41)\n",
    "  - **4.2** [**Data Information**](#Section42)\n",
    "\n",
    "**5.** [**Data Pre-processing**](#Section5)<br>\n",
    "  - **5.1** [**Data Pre-profiling**](#Section51)<br>\n",
    "  - **5.2** [**Data Pre-Processing**](#Section52)<br>\n",
    "  - **5.3** [**Data Post-profiling**](#Section53)<br>\n",
    "\n",
    "**6.** [**Exploratory Data Analysis**](#Section6)<br>\n",
    "**7.** [**Data Post-Processing**](#Section7)<br>\n",
    "  - **7.1** [**Data Encoding**](#Section71)<br> \n",
    "  - **7.2** [**Data Preparation**](#Section72)<br>\n",
    "  - **7.3** [**Data Scaling**](#Section73)<br>\n",
    "\n",
    "**8.** [**Model Development & Evaluation**](#Section8)<br>\n",
    "**9.** [**Summarization**](#Section9)<br>\n",
    "  - **9.1** [**Conclusion**](#Section91)<br>"
   ]
  },
  {
   "cell_type": "markdown",
   "metadata": {
    "id": "TtA6ebp2x1m1"
   },
   "source": [
    "---\n",
    "<a name = Section1></a>\n",
    "# **1. Introduction**\n",
    "---\n",
    "\n",
    "- Your client for this project is Meteomate a top forecasting company.\n",
    "\n",
    "    - They specialize in providing tailored IT solutions for weather forecasting, the energy industry, and the trading market.\n",
    "\n",
    "    - They have extensive experience in developing market-leading forecasting systems and high-speed processing solutions for weather data.\n",
    "\n",
    "    - They are committed to the creation of accurate weather forecasts that clients can trust, going to extra effort to make their weather API easy to consume.\n",
    "\n",
    "**<h3>Current Scenario:</h3>**\n",
    "\n",
    "- They have created purpose-built weather drones, allowing them to capture observations missed by traditional methods (such as satellites and weather balloons), and calculating forecasts on the fly to ensure a customer receives a forecast based on the latest observations. "
   ]
  },
  {
   "cell_type": "markdown",
   "metadata": {
    "id": "6PD50alP7PbO"
   },
   "source": [
    "---\n",
    "<a name = Section2></a>\n",
    "# **2. Problem Statement**\n",
    "---\n",
    "\n",
    "- **The current process suffers from the following problems:**\n",
    "    - The forecasting process is based on making predictions using a large number of variables, and performing complex calculations on them.\n",
    "\n",
    "    - This results in a massive load on the servers and also causes a slight delay in receiving the forecasts.\n",
    "\n",
    "- The company has hired you as a data science consultant.\n",
    "\n",
    "    - They want to make the forecasting process more efficient.\n",
    "\n",
    "\n",
    "<a name = Section21></a>\n",
    "### **Your Role**\n",
    "\n",
    "- You are given datasets containing complete records of daily rainfall patterns of Seattle.\n",
    "\n",
    "- Your task is to build a classification model using the dataset.\n",
    "\n",
    "     - Because there was no machine learning model for this problem in the company, you don’t have a quantifiable win condition.  \n",
    "     - You need to build the best possible model.\n",
    "\n",
    "<a name = Section21></a>\n",
    "### **Project Deliverables**\n",
    "- Deliverable: **Predict whether it will rain on a specific day or not.**\n",
    "\n",
    "- Machine Learning Task: **Classification.**\n",
    "\n",
    "- Target Variable: **RAIN**\n",
    "- Win Condition: **N/A (best possible model)**\n",
    "\n",
    "<a name = Section21></a>\n",
    "### **Evaluation Metric**\n",
    "\n",
    "- The model evaluation will be based on the Accuracy score."
   ]
  },
  {
   "cell_type": "markdown",
   "metadata": {
    "id": "b9NOLpdcEiph"
   },
   "source": [
    "<center><img src=\"https://github.com/girishksahu/INSAID2021-ML-Advanced-Seattle_Weather_Prediction/blob/SMART_AI_Learning/seattle_rain.jpg?raw=true\"></center>"
   ]
  },
  {
   "cell_type": "markdown",
   "metadata": {
    "id": "uqq_eeCl7T--"
   },
   "source": [
    "---\n",
    "<a name = Section3></a>\n",
    "# **3. Importing Libraries**\n",
    "---"
   ]
  },
  {
   "cell_type": "markdown",
   "metadata": {
    "id": "RM7-_O1X7Vvn"
   },
   "source": [
    "<a name = Section31></a>\n",
    "### **3.1 Version Check**"
   ]
  },
  {
   "cell_type": "code",
   "execution_count": 4,
   "metadata": {
    "colab": {
     "base_uri": "https://localhost:8080/"
    },
    "id": "vy7KwPADEipm",
    "outputId": "508f2cf9-a160-417f-e67f-8742d8708043"
   },
   "outputs": [
    {
     "name": "stdout",
     "output_type": "stream",
     "text": [
      "python version 3.8.5\n"
     ]
    }
   ],
   "source": [
    "from platform import python_version\n",
    "\n",
    "# Printing version of Python to ensure correct version is used for this project\n",
    "print(\"python version\", python_version())\n",
    "#!pip list\n",
    "#!pip show\n"
   ]
  },
  {
   "cell_type": "markdown",
   "metadata": {
    "id": "WTASHFS47cFv"
   },
   "source": [
    "<a name = Section32></a>\n",
    "### **3.2 Importing Libraries**"
   ]
  },
  {
   "cell_type": "code",
   "execution_count": 5,
   "metadata": {
    "colab": {
     "base_uri": "https://localhost:8080/"
    },
    "id": "IvwRw1f77a-U",
    "outputId": "f70439c2-41c9-4ec1-a892-b5cf41ee1acd"
   },
   "outputs": [
    {
     "name": "stdout",
     "output_type": "stream",
     "text": [
      "pandas version 1.1.3\n",
      "numpy version 1.19.2\n",
      "seaborn version 0.11.0\n",
      "sklearn version 0.24.2\n"
     ]
    }
   ],
   "source": [
    "#------------------------------------------------------------------------------------------------------------------------------\n",
    "import pandas as pd                                                 # Importing for panel data analysis\n",
    "from pandas_profiling import ProfileReport                          # Import Pandas Profiling (To generate Univariate Analysis)\n",
    "pd.set_option('display.max_columns', None)                          # Unfolding hidden features if the cardinality is high\n",
    "pd.set_option('display.max_rows', None)                             # Unfolding hidden data points if the cardinality is high\n",
    "pd.set_option('mode.chained_assignment', None)                      # Removing restriction over chained assignments operations\n",
    "#-------------------------------------------------------------------------------------------------------------------------------\n",
    "import numpy as np                                                  # Importing package numpys (For Numerical Python)\n",
    "from scipy.stats import randint as sp_randint                       # For initializing random integer values\n",
    "#-------------------------------------------------------------------------------------------------------------------------------\n",
    "import matplotlib.pyplot as plt                                     # Importing pyplot interface using matplotlib\n",
    "import seaborn as sns                                               # Importin seaborm library for interactive visualization\n",
    "%matplotlib inline\n",
    "import sklearn.metrics\n",
    "#-------------------------------------------------------------------------------------------------------------------------------\n",
    "from sklearn.preprocessing import StandardScaler                    # To scaled data with mean 0 and variance 1\n",
    "from sklearn.model_selection import RandomizedSearchCV              # To find best hyperparamter setting for the algorithm\n",
    "from sklearn.metrics import classification_report                   # To generate classification report\n",
    "from sklearn.metrics import plot_confusion_matrix                   # To plot confusion matrix\n",
    "#import pydotplus                                                    # To generate pydot file\n",
    "from IPython.display import Image                                   # To generate image using pydot file\n",
    "#-------------------------------------------------------------------------------------------------------------------------------\n",
    "#-------------------------------------------------------------------------------------------------------------------------------\n",
    "from sklearn.metrics import accuracy_score                          # For calculating the accuracy for the model\n",
    "from sklearn.metrics import precision_score                         # For calculating the Precision of the model\n",
    "from sklearn.metrics import recall_score                            # For calculating the recall of the model\n",
    "from sklearn.metrics import precision_recall_curve                  # For precision and recall metric estimation\n",
    "from sklearn.metrics import confusion_matrix                        # For verifying model performance using confusion matrix\n",
    "from sklearn.metrics import f1_score                                # For Checking the F1-Score of our model  \n",
    "from sklearn.metrics import roc_curve                               # For Roc-Auc metric estimation\n",
    "from sklearn.metrics import plot_roc_curve\n",
    "#-------------------------------------------------------------------------------------------------------------------------------\n",
    "from sklearn.model_selection import train_test_split                # To split the data in training and testing part     \n",
    "from sklearn.linear_model import LogisticRegression                 # To create the Logistic Regression Model\n",
    "from sklearn.tree import DecisionTreeClassifier \n",
    "#-------------------------------------------------------------------------------------------------------------------------------\n",
    "import warnings                                                     # Importing warning to disable runtime warnings\n",
    "warnings.filterwarnings(\"ignore\")                                   # Warnings will appear only once\n",
    "\n",
    "#Printing version of few key libraries to ensure correct once are used\n",
    "print (\"pandas version\", pd.__version__)\n",
    "print (\"numpy version\", np.__version__)\n",
    "print (\"seaborn version\", sns.__version__)\n",
    "print (\"sklearn version\", sklearn.__version__)"
   ]
  },
  {
   "cell_type": "markdown",
   "metadata": {
    "id": "UrpwmWxc7iif"
   },
   "source": [
    "---\n",
    "<a name = Section4></a>\n",
    "# **4. Data Acquisition & Description**\n",
    "---\n",
    "\n",
    "- The dataset contains complete records of daily rainfall patterns of Seattle.The column RAIN tells us whether rain was observed on a particular day or not.\n",
    "\n",
    "\n",
    "| Records | Features | Dataset Size |\n",
    "| :-- | :-- | :-- |\n",
    "| 20440 | 6 | 958.1 KB | \n",
    "\n",
    "<br>\n",
    "\n",
    "| ID | Feature Name | Description of the feature |\n",
    "| :-- | :--| :--| \n",
    "|01| **Id**   | Unique identity of each observation. |\n",
    "|02| **DATE**      | The date of the observation.|\n",
    "|03| **PRCP**        | The amount of precipitation, in inches.|\n",
    "|04| **TMAX**          |The maximum temperature for that day, in degrees Fahrenheit.|\n",
    "|05| **TMIN**      | The minimum temperature for that day, in degrees Fahrenheit |\n",
    "|06| **RAIN**           | TRUE if rain was observed on that day, FALSE if it was not|\n",
    "\n",
    "- The **Test dataset** contains complete records of daily rainfall patterns of Seattle and **RAIN** column need to be predicted if there will be Rain or not.\n",
    "\n",
    "| Records | Features | Dataset Size |\n",
    "| :-- | :-- | :-- |\n",
    "| 5110 | 5 | 199.6 KB | \n",
    "\n",
    "<br>"
   ]
  },
  {
   "cell_type": "markdown",
   "metadata": {
    "id": "XFqXRKo690e5"
   },
   "source": [
    "- Load Metomate daily rainfall patterns of Seattle Data to be used for Training and Validation"
   ]
  },
  {
   "cell_type": "code",
   "execution_count": 6,
   "metadata": {
    "colab": {
     "base_uri": "https://localhost:8080/",
     "height": 340
    },
    "id": "xxBLyDgo7a7H",
    "outputId": "ff7fdde7-471b-49ce-c07e-b355e8998926",
    "scrolled": true
   },
   "outputs": [
    {
     "name": "stdout",
     "output_type": "stream",
     "text": [
      "Shape of the Training and Validation dataset: (20440, 5)\n"
     ]
    },
    {
     "data": {
      "text/html": [
       "<div>\n",
       "<style scoped>\n",
       "    .dataframe tbody tr th:only-of-type {\n",
       "        vertical-align: middle;\n",
       "    }\n",
       "\n",
       "    .dataframe tbody tr th {\n",
       "        vertical-align: top;\n",
       "    }\n",
       "\n",
       "    .dataframe thead th {\n",
       "        text-align: right;\n",
       "    }\n",
       "</style>\n",
       "<table border=\"1\" class=\"dataframe\">\n",
       "  <thead>\n",
       "    <tr style=\"text-align: right;\">\n",
       "      <th></th>\n",
       "      <th>DATE</th>\n",
       "      <th>PRCP</th>\n",
       "      <th>TMAX</th>\n",
       "      <th>TMIN</th>\n",
       "      <th>RAIN</th>\n",
       "    </tr>\n",
       "    <tr>\n",
       "      <th>Id</th>\n",
       "      <th></th>\n",
       "      <th></th>\n",
       "      <th></th>\n",
       "      <th></th>\n",
       "      <th></th>\n",
       "    </tr>\n",
       "  </thead>\n",
       "  <tbody>\n",
       "    <tr>\n",
       "      <th>0</th>\n",
       "      <td>1948-01-01</td>\n",
       "      <td>0.47</td>\n",
       "      <td>51</td>\n",
       "      <td>42</td>\n",
       "      <td>True</td>\n",
       "    </tr>\n",
       "    <tr>\n",
       "      <th>1</th>\n",
       "      <td>1948-01-02</td>\n",
       "      <td>0.59</td>\n",
       "      <td>45</td>\n",
       "      <td>36</td>\n",
       "      <td>True</td>\n",
       "    </tr>\n",
       "    <tr>\n",
       "      <th>2</th>\n",
       "      <td>1948-01-03</td>\n",
       "      <td>0.42</td>\n",
       "      <td>45</td>\n",
       "      <td>35</td>\n",
       "      <td>True</td>\n",
       "    </tr>\n",
       "    <tr>\n",
       "      <th>3</th>\n",
       "      <td>1948-01-04</td>\n",
       "      <td>0.31</td>\n",
       "      <td>45</td>\n",
       "      <td>34</td>\n",
       "      <td>True</td>\n",
       "    </tr>\n",
       "    <tr>\n",
       "      <th>4</th>\n",
       "      <td>1948-01-05</td>\n",
       "      <td>0.17</td>\n",
       "      <td>45</td>\n",
       "      <td>32</td>\n",
       "      <td>True</td>\n",
       "    </tr>\n",
       "  </tbody>\n",
       "</table>\n",
       "</div>"
      ],
      "text/plain": [
       "          DATE  PRCP  TMAX  TMIN  RAIN\n",
       "Id                                    \n",
       "0   1948-01-01  0.47    51    42  True\n",
       "1   1948-01-02  0.59    45    36  True\n",
       "2   1948-01-03  0.42    45    35  True\n",
       "3   1948-01-04  0.31    45    34  True\n",
       "4   1948-01-05  0.17    45    32  True"
      ]
     },
     "execution_count": 6,
     "metadata": {},
     "output_type": "execute_result"
    }
   ],
   "source": [
    "# Id is unique ID for record and can be used as label for index\n",
    "weather_master_data = pd.read_csv(\"https://raw.githubusercontent.com/girishksahu/INSAID2021-ML-Advanced-Seattle_Weather_Prediction/SMART_AI_Learning/seattle_train.csv\", index_col='Id')\n",
    "\n",
    "# Get the dimesions of data\n",
    "print('Shape of the Training and Validation dataset:', weather_master_data.shape)\n",
    "\n",
    "# Output first few rows\n",
    "weather_master_data.head()\n"
   ]
  },
  {
   "cell_type": "markdown",
   "metadata": {
    "id": "tTuO0pmQ90e7"
   },
   "source": [
    "- Load Metomate daily rainfall patterns of Seattle Data Test Data to be used for Prediction"
   ]
  },
  {
   "cell_type": "code",
   "execution_count": 7,
   "metadata": {
    "colab": {
     "base_uri": "https://localhost:8080/",
     "height": 357
    },
    "id": "vLcrXKX190e7",
    "outputId": "7b686ba6-364b-4b79-b2a5-7d4e45371a2b"
   },
   "outputs": [
    {
     "name": "stdout",
     "output_type": "stream",
     "text": [
      "Shape of the Test dataset to be used for Prediction: (5110, 4)\n"
     ]
    },
    {
     "data": {
      "text/html": [
       "<div>\n",
       "<style scoped>\n",
       "    .dataframe tbody tr th:only-of-type {\n",
       "        vertical-align: middle;\n",
       "    }\n",
       "\n",
       "    .dataframe tbody tr th {\n",
       "        vertical-align: top;\n",
       "    }\n",
       "\n",
       "    .dataframe thead th {\n",
       "        text-align: right;\n",
       "    }\n",
       "</style>\n",
       "<table border=\"1\" class=\"dataframe\">\n",
       "  <thead>\n",
       "    <tr style=\"text-align: right;\">\n",
       "      <th></th>\n",
       "      <th>DATE</th>\n",
       "      <th>PRCP</th>\n",
       "      <th>TMAX</th>\n",
       "      <th>TMIN</th>\n",
       "    </tr>\n",
       "    <tr>\n",
       "      <th>Id</th>\n",
       "      <th></th>\n",
       "      <th></th>\n",
       "      <th></th>\n",
       "      <th></th>\n",
       "    </tr>\n",
       "  </thead>\n",
       "  <tbody>\n",
       "    <tr>\n",
       "      <th>20440</th>\n",
       "      <td>2003-12-18</td>\n",
       "      <td>0.00</td>\n",
       "      <td>54</td>\n",
       "      <td>37</td>\n",
       "    </tr>\n",
       "    <tr>\n",
       "      <th>20441</th>\n",
       "      <td>2003-12-19</td>\n",
       "      <td>0.14</td>\n",
       "      <td>51</td>\n",
       "      <td>38</td>\n",
       "    </tr>\n",
       "    <tr>\n",
       "      <th>20442</th>\n",
       "      <td>2003-12-20</td>\n",
       "      <td>0.13</td>\n",
       "      <td>48</td>\n",
       "      <td>44</td>\n",
       "    </tr>\n",
       "    <tr>\n",
       "      <th>20443</th>\n",
       "      <td>2003-12-21</td>\n",
       "      <td>0.01</td>\n",
       "      <td>51</td>\n",
       "      <td>38</td>\n",
       "    </tr>\n",
       "    <tr>\n",
       "      <th>20444</th>\n",
       "      <td>2003-12-22</td>\n",
       "      <td>0.00</td>\n",
       "      <td>53</td>\n",
       "      <td>35</td>\n",
       "    </tr>\n",
       "  </tbody>\n",
       "</table>\n",
       "</div>"
      ],
      "text/plain": [
       "             DATE  PRCP  TMAX  TMIN\n",
       "Id                                 \n",
       "20440  2003-12-18  0.00    54    37\n",
       "20441  2003-12-19  0.14    51    38\n",
       "20442  2003-12-20  0.13    48    44\n",
       "20443  2003-12-21  0.01    51    38\n",
       "20444  2003-12-22  0.00    53    35"
      ]
     },
     "execution_count": 7,
     "metadata": {},
     "output_type": "execute_result"
    }
   ],
   "source": [
    "# Id is unique ID for record and can be used as label for index\n",
    "weather_test_data = pd.read_csv(\"https://raw.githubusercontent.com/girishksahu/INSAID2021-ML-Advanced-Seattle_Weather_Prediction/SMART_AI_Learning/seattle_test.csv\", index_col='Id')\n",
    "\n",
    "# Get the dimesions of data\n",
    "print('Shape of the Test dataset to be used for Prediction:', weather_test_data.shape)\n",
    "\n",
    "# Output first few rows\n",
    "weather_test_data.head()"
   ]
  },
  {
   "cell_type": "code",
   "execution_count": 8,
   "metadata": {
    "colab": {
     "base_uri": "https://localhost:8080/"
    },
    "id": "tugM4joIEipv",
    "outputId": "997bf48c-6fc1-4aed-de10-5dfe78d9a9fe"
   },
   "outputs": [
    {
     "data": {
      "text/plain": [
       "True"
      ]
     },
     "execution_count": 8,
     "metadata": {},
     "output_type": "execute_result"
    }
   ],
   "source": [
    "# Check for any missing values\n",
    "any(weather_master_data.isna().sum())"
   ]
  },
  {
   "cell_type": "code",
   "execution_count": 9,
   "metadata": {
    "colab": {
     "base_uri": "https://localhost:8080/"
    },
    "id": "xD8YT7na90e8",
    "outputId": "c9a62d30-13e2-4777-fa02-a9a785d7a383"
   },
   "outputs": [
    {
     "data": {
      "text/plain": [
       "False"
      ]
     },
     "execution_count": 9,
     "metadata": {},
     "output_type": "execute_result"
    }
   ],
   "source": [
    "#check if any duplicate row\n",
    "any(weather_master_data.duplicated())"
   ]
  },
  {
   "cell_type": "markdown",
   "metadata": {
    "id": "SpQsei5Q8BGS"
   },
   "source": [
    "<a name = Section41></a>\n",
    "### **4.1 Data Description**\n",
    "\n",
    "- In this section we will get **information about the data** and see some observations."
   ]
  },
  {
   "cell_type": "code",
   "execution_count": 10,
   "metadata": {
    "colab": {
     "base_uri": "https://localhost:8080/",
     "height": 317
    },
    "id": "vmYaroaO7XSG",
    "outputId": "e842635e-8f81-4630-f8d3-9bfaa0584c30"
   },
   "outputs": [
    {
     "data": {
      "text/html": [
       "<div>\n",
       "<style scoped>\n",
       "    .dataframe tbody tr th:only-of-type {\n",
       "        vertical-align: middle;\n",
       "    }\n",
       "\n",
       "    .dataframe tbody tr th {\n",
       "        vertical-align: top;\n",
       "    }\n",
       "\n",
       "    .dataframe thead th {\n",
       "        text-align: right;\n",
       "    }\n",
       "</style>\n",
       "<table border=\"1\" class=\"dataframe\">\n",
       "  <thead>\n",
       "    <tr style=\"text-align: right;\">\n",
       "      <th></th>\n",
       "      <th>PRCP</th>\n",
       "      <th>TMAX</th>\n",
       "      <th>TMIN</th>\n",
       "    </tr>\n",
       "  </thead>\n",
       "  <tbody>\n",
       "    <tr>\n",
       "      <th>count</th>\n",
       "      <td>20438.000000</td>\n",
       "      <td>20440.000000</td>\n",
       "      <td>20440.000000</td>\n",
       "    </tr>\n",
       "    <tr>\n",
       "      <th>mean</th>\n",
       "      <td>0.104860</td>\n",
       "      <td>59.301027</td>\n",
       "      <td>44.187965</td>\n",
       "    </tr>\n",
       "    <tr>\n",
       "      <th>std</th>\n",
       "      <td>0.235564</td>\n",
       "      <td>12.700363</td>\n",
       "      <td>8.832697</td>\n",
       "    </tr>\n",
       "    <tr>\n",
       "      <th>min</th>\n",
       "      <td>0.000000</td>\n",
       "      <td>4.000000</td>\n",
       "      <td>0.000000</td>\n",
       "    </tr>\n",
       "    <tr>\n",
       "      <th>25%</th>\n",
       "      <td>0.000000</td>\n",
       "      <td>50.000000</td>\n",
       "      <td>38.000000</td>\n",
       "    </tr>\n",
       "    <tr>\n",
       "      <th>50%</th>\n",
       "      <td>0.000000</td>\n",
       "      <td>58.000000</td>\n",
       "      <td>44.000000</td>\n",
       "    </tr>\n",
       "    <tr>\n",
       "      <th>75%</th>\n",
       "      <td>0.100000</td>\n",
       "      <td>69.000000</td>\n",
       "      <td>51.000000</td>\n",
       "    </tr>\n",
       "    <tr>\n",
       "      <th>max</th>\n",
       "      <td>5.020000</td>\n",
       "      <td>100.000000</td>\n",
       "      <td>69.000000</td>\n",
       "    </tr>\n",
       "  </tbody>\n",
       "</table>\n",
       "</div>"
      ],
      "text/plain": [
       "               PRCP          TMAX          TMIN\n",
       "count  20438.000000  20440.000000  20440.000000\n",
       "mean       0.104860     59.301027     44.187965\n",
       "std        0.235564     12.700363      8.832697\n",
       "min        0.000000      4.000000      0.000000\n",
       "25%        0.000000     50.000000     38.000000\n",
       "50%        0.000000     58.000000     44.000000\n",
       "75%        0.100000     69.000000     51.000000\n",
       "max        5.020000    100.000000     69.000000"
      ]
     },
     "execution_count": 10,
     "metadata": {},
     "output_type": "execute_result"
    }
   ],
   "source": [
    "#Basic statistical details for numeric variables\n",
    "weather_master_data.describe()"
   ]
  },
  {
   "cell_type": "markdown",
   "metadata": {
    "id": "rgdPuEzB8Ncn"
   },
   "source": [
    "**Observations:**\n",
    "- Total count for numeric variable **PRCP** is 20438 which confirms there are few missing values.\n",
    "- **TMAX** and **TMIN** have mean and median value similar which means mostly normal distribution."
   ]
  },
  {
   "cell_type": "code",
   "execution_count": 11,
   "metadata": {
    "colab": {
     "base_uri": "https://localhost:8080/",
     "height": 210
    },
    "id": "MTeJbxvSEipw",
    "outputId": "3657c3c3-31a5-4f1b-90b1-023a0d0456fc"
   },
   "outputs": [
    {
     "data": {
      "text/html": [
       "<div>\n",
       "<style scoped>\n",
       "    .dataframe tbody tr th:only-of-type {\n",
       "        vertical-align: middle;\n",
       "    }\n",
       "\n",
       "    .dataframe tbody tr th {\n",
       "        vertical-align: top;\n",
       "    }\n",
       "\n",
       "    .dataframe thead th {\n",
       "        text-align: right;\n",
       "    }\n",
       "</style>\n",
       "<table border=\"1\" class=\"dataframe\">\n",
       "  <thead>\n",
       "    <tr style=\"text-align: right;\">\n",
       "      <th></th>\n",
       "      <th>DATE</th>\n",
       "      <th>RAIN</th>\n",
       "    </tr>\n",
       "  </thead>\n",
       "  <tbody>\n",
       "    <tr>\n",
       "      <th>count</th>\n",
       "      <td>20440</td>\n",
       "      <td>20438</td>\n",
       "    </tr>\n",
       "    <tr>\n",
       "      <th>unique</th>\n",
       "      <td>20440</td>\n",
       "      <td>2</td>\n",
       "    </tr>\n",
       "    <tr>\n",
       "      <th>top</th>\n",
       "      <td>1977-06-15</td>\n",
       "      <td>False</td>\n",
       "    </tr>\n",
       "    <tr>\n",
       "      <th>freq</th>\n",
       "      <td>1</td>\n",
       "      <td>11771</td>\n",
       "    </tr>\n",
       "  </tbody>\n",
       "</table>\n",
       "</div>"
      ],
      "text/plain": [
       "              DATE   RAIN\n",
       "count        20440  20438\n",
       "unique       20440      2\n",
       "top     1977-06-15  False\n",
       "freq             1  11771"
      ]
     },
     "execution_count": 11,
     "metadata": {},
     "output_type": "execute_result"
    }
   ],
   "source": [
    "#Basic statistical details for categorical variables\n",
    "weather_master_data.describe(include=[np.object])"
   ]
  },
  {
   "cell_type": "markdown",
   "metadata": {
    "id": "QbQLixkYEipw"
   },
   "source": [
    "**Observations:**\n",
    "- Total count for categorical variable **RAIN** is 20438 which confirms that there are few missing values. \n",
    "- **RAIN** feature has majority of category as **False** "
   ]
  },
  {
   "cell_type": "code",
   "execution_count": 12,
   "metadata": {},
   "outputs": [
    {
     "name": "stdout",
     "output_type": "stream",
     "text": [
      "<class 'pandas.core.frame.DataFrame'>\n",
      "Int64Index: 20440 entries, 0 to 20439\n",
      "Data columns (total 5 columns):\n",
      " #   Column  Non-Null Count  Dtype  \n",
      "---  ------  --------------  -----  \n",
      " 0   DATE    20440 non-null  object \n",
      " 1   PRCP    20438 non-null  float64\n",
      " 2   TMAX    20440 non-null  int64  \n",
      " 3   TMIN    20440 non-null  int64  \n",
      " 4   RAIN    20438 non-null  object \n",
      "dtypes: float64(1), int64(2), object(2)\n",
      "memory usage: 958.1+ KB\n"
     ]
    }
   ],
   "source": [
    "weather_master_data.info()"
   ]
  },
  {
   "cell_type": "code",
   "execution_count": 13,
   "metadata": {
    "colab": {
     "base_uri": "https://localhost:8080/"
    },
    "id": "1-ig0Ha5Eipx",
    "outputId": "f66d9813-e05a-4fc6-c438-8a226dd92185"
   },
   "outputs": [
    {
     "data": {
      "text/plain": [
       "Index(['DATE', 'PRCP', 'TMAX', 'TMIN', 'RAIN'], dtype='object')"
      ]
     },
     "execution_count": 13,
     "metadata": {},
     "output_type": "execute_result"
    }
   ],
   "source": [
    "# Columns list can be handy and useful for further steps\n",
    "weather_master_data.columns"
   ]
  },
  {
   "cell_type": "markdown",
   "metadata": {
    "id": "dQQ5Ks4P8PFv"
   },
   "source": [
    "<a name = Section42></a>\n",
    "### **4.2 Data Information**\n",
    "\n",
    "- In this section we will see the **information about the types of the features**."
   ]
  },
  {
   "cell_type": "code",
   "execution_count": 14,
   "metadata": {
    "colab": {
     "base_uri": "https://localhost:8080/"
    },
    "id": "m3Rpdt3E8O0b",
    "outputId": "09381b9f-66e5-433f-b6f2-3ead8bfa81a6"
   },
   "outputs": [
    {
     "name": "stdout",
     "output_type": "stream",
     "text": [
      "<class 'pandas.core.frame.DataFrame'>\n",
      "Int64Index: 20440 entries, 0 to 20439\n",
      "Data columns (total 5 columns):\n",
      " #   Column  Non-Null Count  Dtype  \n",
      "---  ------  --------------  -----  \n",
      " 0   DATE    20440 non-null  object \n",
      " 1   PRCP    20438 non-null  float64\n",
      " 2   TMAX    20440 non-null  int64  \n",
      " 3   TMIN    20440 non-null  int64  \n",
      " 4   RAIN    20438 non-null  object \n",
      "dtypes: float64(1), int64(2), object(2)\n",
      "memory usage: 958.1+ KB\n"
     ]
    }
   ],
   "source": [
    "# Check column data types and any null values\n",
    "weather_master_data.info()"
   ]
  },
  {
   "cell_type": "markdown",
   "metadata": {},
   "source": [
    "**Observations:**\n",
    "\n",
    "- Total Non-Null count for column PCRCP and RAIN not same as 20440 which means there are few missing values.\n",
    "- There are **3 Numerical features** with 2 column as object feature.\n",
    "- **Id** column has been set as index while data load."
   ]
  },
  {
   "cell_type": "code",
   "execution_count": 15,
   "metadata": {},
   "outputs": [
    {
     "name": "stdout",
     "output_type": "stream",
     "text": [
      "<class 'pandas.core.frame.DataFrame'>\n",
      "Int64Index: 5110 entries, 20440 to 25550\n",
      "Data columns (total 4 columns):\n",
      " #   Column  Non-Null Count  Dtype  \n",
      "---  ------  --------------  -----  \n",
      " 0   DATE    5110 non-null   object \n",
      " 1   PRCP    5110 non-null   float64\n",
      " 2   TMAX    5110 non-null   int64  \n",
      " 3   TMIN    5110 non-null   int64  \n",
      "dtypes: float64(1), int64(2), object(1)\n",
      "memory usage: 199.6+ KB\n"
     ]
    }
   ],
   "source": [
    "weather_test_data.info()"
   ]
  },
  {
   "cell_type": "markdown",
   "metadata": {
    "id": "oQSEAjYy8XfW"
   },
   "source": [
    "<a name = Section5></a>\n",
    "\n",
    "---\n",
    "# **5. Data Pre-Processing**\n",
    "---"
   ]
  },
  {
   "cell_type": "markdown",
   "metadata": {
    "id": "4L4wU-sm8ZLg"
   },
   "source": [
    "<a name = Section51></a>\n",
    "### **5.1 Data Pre-Profiling**\n",
    "\n",
    "- For **quick analysis** pandas profiling is very handy.\n",
    "\n",
    "- Generates profile reports from a pandas DataFrame.\n",
    "\n",
    "- For each column **statistics** are presented in an interactive HTML report."
   ]
  },
  {
   "cell_type": "code",
   "execution_count": 16,
   "metadata": {
    "id": "luX_DzAx8Owo"
   },
   "outputs": [
    {
     "data": {
      "application/vnd.jupyter.widget-view+json": {
       "model_id": "32a660538fd34bd1948f662036aa0457",
       "version_major": 2,
       "version_minor": 0
      },
      "text/plain": [
       "HBox(children=(HTML(value='Summarize dataset'), FloatProgress(value=0.0, max=5.0), HTML(value='')))"
      ]
     },
     "metadata": {},
     "output_type": "display_data"
    },
    {
     "name": "stdout",
     "output_type": "stream",
     "text": [
      "\n"
     ]
    },
    {
     "data": {
      "application/vnd.jupyter.widget-view+json": {
       "model_id": "710d0e8800d848889ddf910589d7b391",
       "version_major": 2,
       "version_minor": 0
      },
      "text/plain": [
       "HBox(children=(HTML(value='Generate report structure'), FloatProgress(value=0.0, max=1.0), HTML(value='')))"
      ]
     },
     "metadata": {},
     "output_type": "display_data"
    },
    {
     "name": "stdout",
     "output_type": "stream",
     "text": [
      "\n"
     ]
    },
    {
     "data": {
      "application/vnd.jupyter.widget-view+json": {
       "model_id": "9707df664e614de4a7d19926123efbcc",
       "version_major": 2,
       "version_minor": 0
      },
      "text/plain": [
       "HBox(children=(HTML(value='Render HTML'), FloatProgress(value=0.0, max=1.0), HTML(value='')))"
      ]
     },
     "metadata": {},
     "output_type": "display_data"
    },
    {
     "name": "stdout",
     "output_type": "stream",
     "text": [
      "\n"
     ]
    },
    {
     "data": {
      "application/vnd.jupyter.widget-view+json": {
       "model_id": "a45abf7181a94a41a1256c5f34ab1be4",
       "version_major": 2,
       "version_minor": 0
      },
      "text/plain": [
       "HBox(children=(HTML(value='Export report to file'), FloatProgress(value=0.0, max=1.0), HTML(value='')))"
      ]
     },
     "metadata": {},
     "output_type": "display_data"
    },
    {
     "name": "stdout",
     "output_type": "stream",
     "text": [
      "\n",
      "Accomplished!\n"
     ]
    }
   ],
   "source": [
    "profile = ProfileReport(df=weather_master_data)\n",
    "profile.to_file(output_file='Seattle-Weather-Prediction Pre Profiling Report.html')\n",
    "print('Accomplished!')"
   ]
  },
  {
   "cell_type": "markdown",
   "metadata": {
    "id": "tNG4bnZe8b6o"
   },
   "source": [
    "**Observations:**\n",
    "\n",
    "- The report shows that there are a **total** of **5 features** out of which **3** are **numerical**, **1** is **categorical** which is Date and **Boolean** for RAIN. Id column has been set as Index.\n",
    "\n",
    "- **RAIN** Categorical feature has partial balanced data with **11771** identified as False and **8667** as True. It has 2 data points which has missing value.\n",
    "\n",
    "- All the features has equal number of records **20440** except RAIN and PRCP column which has 2 missing values.\n",
    "\n",
    "- **PRCP** feature has around 57.6% as Zero values.\n",
    "\n",
    "- For detailed information, please check **Seattle-Weather-Prediction Pre Profiling Report.html** file."
   ]
  },
  {
   "cell_type": "markdown",
   "metadata": {
    "id": "fM-c50LH88C0"
   },
   "source": [
    "<a name = Section52></a>\n",
    "### **5.2 Data Pre-Processing**\n",
    "\n",
    "- There are no missing values and data appears clean so far but we need to pre process few features before EDA and Model Evaluation"
   ]
  },
  {
   "cell_type": "markdown",
   "metadata": {
    "id": "QLwWFES98-I8"
   },
   "source": [
    "<a name = Section53></a>\n",
    "### **5.3 Data Post-Profiling**\n",
    "\n",
    "- We can run the report to get latest information"
   ]
  },
  {
   "cell_type": "code",
   "execution_count": 17,
   "metadata": {
    "id": "ciU9rER48-BI"
   },
   "outputs": [],
   "source": [
    "# post_profile=ProfileReport(df=weather_master_data)\n",
    "# post_profile.to_file(output_file='Seattle-Weather-Prediction Post Profiling Report.html')\n",
    "# print('Accomplished!')"
   ]
  },
  {
   "cell_type": "markdown",
   "metadata": {
    "id": "ta0YDE_B9CrW"
   },
   "source": [
    "**Observations:**\n",
    "\n",
    "- Not Applicable"
   ]
  },
  {
   "cell_type": "markdown",
   "metadata": {
    "id": "yRiwgAJL9IrJ"
   },
   "source": [
    "<a name = Section6></a>\n",
    "\n",
    "---\n",
    "# **6. Exploratory Data Analysis**\n",
    "---\n",
    "\n",
    "**NOTE**:  \n",
    "\n",
    "- Exploratory Data Analysis will explore all the features and their relationship with other features\n",
    "- Both non-graphical and graphical method will be used as applicable to respective features\n",
    "- Both univariate and bivariate method be used as applicable to respective features"
   ]
  },
  {
   "cell_type": "markdown",
   "metadata": {
    "id": "ptT-j5erEip4"
   },
   "source": [
    "**Q: What is the breakdown of RAIN?**"
   ]
  },
  {
   "cell_type": "code",
   "execution_count": 18,
   "metadata": {
    "colab": {
     "base_uri": "https://localhost:8080/"
    },
    "id": "4Blph_-XEip4",
    "outputId": "b072d9c7-3d5b-416a-a9ed-8cab513d5861"
   },
   "outputs": [
    {
     "data": {
      "text/plain": [
       "False    11771\n",
       "True      8667\n",
       "Name: RAIN, dtype: int64"
      ]
     },
     "execution_count": 18,
     "metadata": {},
     "output_type": "execute_result"
    }
   ],
   "source": [
    "weather_master_data['RAIN'].value_counts()"
   ]
  },
  {
   "cell_type": "code",
   "execution_count": 19,
   "metadata": {},
   "outputs": [
    {
     "name": "stdout",
     "output_type": "stream",
     "text": [
      "<class 'pandas.core.frame.DataFrame'>\n",
      "Int64Index: 20440 entries, 0 to 20439\n",
      "Data columns (total 5 columns):\n",
      " #   Column  Non-Null Count  Dtype  \n",
      "---  ------  --------------  -----  \n",
      " 0   DATE    20440 non-null  object \n",
      " 1   PRCP    20438 non-null  float64\n",
      " 2   TMAX    20440 non-null  int64  \n",
      " 3   TMIN    20440 non-null  int64  \n",
      " 4   RAIN    20438 non-null  object \n",
      "dtypes: float64(1), int64(2), object(2)\n",
      "memory usage: 958.1+ KB\n"
     ]
    }
   ],
   "source": [
    "weather_master_data.info()"
   ]
  },
  {
   "cell_type": "code",
   "execution_count": 20,
   "metadata": {
    "colab": {
     "base_uri": "https://localhost:8080/",
     "height": 731
    },
    "id": "4zNO4dBgEip4",
    "outputId": "0adc1282-7182-4402-ac65-871724bdca9e"
   },
   "outputs": [
    {
     "data": {
      "text/plain": [
       "<AxesSubplot:xlabel='RAIN', ylabel='count'>"
      ]
     },
     "execution_count": 20,
     "metadata": {},
     "output_type": "execute_result"
    },
    {
     "data": {
      "image/png": "[encoded data removed]",
      "text/plain": [
       "<Figure size 1080x864 with 1 Axes>"
      ]
     },
     "metadata": {
      "needs_background": "light"
     },
     "output_type": "display_data"
    }
   ],
   "source": [
    "plt.figure(figsize=(15,12))\n",
    "sns.countplot(x='RAIN',data=weather_master_data,order=weather_master_data['RAIN'].value_counts().index)"
   ]
  },
  {
   "cell_type": "code",
   "execution_count": 21,
   "metadata": {},
   "outputs": [],
   "source": [
    "weather_master_data['DATE']=pd.to_datetime(weather_master_data['DATE'])"
   ]
  },
  {
   "cell_type": "code",
   "execution_count": 22,
   "metadata": {},
   "outputs": [
    {
     "name": "stdout",
     "output_type": "stream",
     "text": [
      "<class 'pandas.core.frame.DataFrame'>\n",
      "Int64Index: 20440 entries, 0 to 20439\n",
      "Data columns (total 5 columns):\n",
      " #   Column  Non-Null Count  Dtype         \n",
      "---  ------  --------------  -----         \n",
      " 0   DATE    20440 non-null  datetime64[ns]\n",
      " 1   PRCP    20438 non-null  float64       \n",
      " 2   TMAX    20440 non-null  int64         \n",
      " 3   TMIN    20440 non-null  int64         \n",
      " 4   RAIN    20438 non-null  object        \n",
      "dtypes: datetime64[ns](1), float64(1), int64(2), object(1)\n",
      "memory usage: 1.6+ MB\n"
     ]
    }
   ],
   "source": [
    "weather_master_data.info()"
   ]
  },
  {
   "cell_type": "code",
   "execution_count": 23,
   "metadata": {},
   "outputs": [],
   "source": [
    "groupbydate=weather_master_data.groupby(by = 'DATE', as_index = False).agg('mean')"
   ]
  },
  {
   "cell_type": "code",
   "execution_count": 24,
   "metadata": {},
   "outputs": [
    {
     "data": {
      "text/html": [
       "<div>\n",
       "<style scoped>\n",
       "    .dataframe tbody tr th:only-of-type {\n",
       "        vertical-align: middle;\n",
       "    }\n",
       "\n",
       "    .dataframe tbody tr th {\n",
       "        vertical-align: top;\n",
       "    }\n",
       "\n",
       "    .dataframe thead th {\n",
       "        text-align: right;\n",
       "    }\n",
       "</style>\n",
       "<table border=\"1\" class=\"dataframe\">\n",
       "  <thead>\n",
       "    <tr style=\"text-align: right;\">\n",
       "      <th></th>\n",
       "      <th>DATE</th>\n",
       "      <th>PRCP</th>\n",
       "      <th>TMAX</th>\n",
       "      <th>TMIN</th>\n",
       "    </tr>\n",
       "  </thead>\n",
       "  <tbody>\n",
       "    <tr>\n",
       "      <th>0</th>\n",
       "      <td>1948-01-01</td>\n",
       "      <td>0.47</td>\n",
       "      <td>51</td>\n",
       "      <td>42</td>\n",
       "    </tr>\n",
       "    <tr>\n",
       "      <th>1</th>\n",
       "      <td>1948-01-02</td>\n",
       "      <td>0.59</td>\n",
       "      <td>45</td>\n",
       "      <td>36</td>\n",
       "    </tr>\n",
       "    <tr>\n",
       "      <th>2</th>\n",
       "      <td>1948-01-03</td>\n",
       "      <td>0.42</td>\n",
       "      <td>45</td>\n",
       "      <td>35</td>\n",
       "    </tr>\n",
       "    <tr>\n",
       "      <th>3</th>\n",
       "      <td>1948-01-04</td>\n",
       "      <td>0.31</td>\n",
       "      <td>45</td>\n",
       "      <td>34</td>\n",
       "    </tr>\n",
       "    <tr>\n",
       "      <th>4</th>\n",
       "      <td>1948-01-05</td>\n",
       "      <td>0.17</td>\n",
       "      <td>45</td>\n",
       "      <td>32</td>\n",
       "    </tr>\n",
       "  </tbody>\n",
       "</table>\n",
       "</div>"
      ],
      "text/plain": [
       "        DATE  PRCP  TMAX  TMIN\n",
       "0 1948-01-01  0.47    51    42\n",
       "1 1948-01-02  0.59    45    36\n",
       "2 1948-01-03  0.42    45    35\n",
       "3 1948-01-04  0.31    45    34\n",
       "4 1948-01-05  0.17    45    32"
      ]
     },
     "execution_count": 24,
     "metadata": {},
     "output_type": "execute_result"
    }
   ],
   "source": [
    "groupbydate.head()"
   ]
  },
  {
   "cell_type": "code",
   "execution_count": 25,
   "metadata": {},
   "outputs": [
    {
     "data": {
      "text/plain": [
       "<AxesSubplot:xlabel='DATE', ylabel='PRCP'>"
      ]
     },
     "execution_count": 25,
     "metadata": {},
     "output_type": "execute_result"
    },
    {
     "data": {
      "image/png": "[encoded data removed]",
      "text/plain": [
       "<Figure size 432x288 with 1 Axes>"
      ]
     },
     "metadata": {
      "needs_background": "light"
     },
     "output_type": "display_data"
    }
   ],
   "source": [
    "sns.lineplot(data=groupbydate, x=\"DATE\", y=\"PRCP\")"
   ]
  },
  {
   "cell_type": "code",
   "execution_count": 26,
   "metadata": {},
   "outputs": [
    {
     "data": {
      "text/plain": [
       "<AxesSubplot:xlabel='DATE', ylabel='TMAX'>"
      ]
     },
     "execution_count": 26,
     "metadata": {},
     "output_type": "execute_result"
    },
    {
     "data": {
      "image/png": "[encoded data removed]",
      "text/plain": [
       "<Figure size 432x288 with 1 Axes>"
      ]
     },
     "metadata": {
      "needs_background": "light"
     },
     "output_type": "display_data"
    }
   ],
   "source": [
    "sns.lineplot(data=weather_master_data, x=\"DATE\", y=\"TMAX\", hue='RAIN')"
   ]
  },
  {
   "cell_type": "code",
   "execution_count": 27,
   "metadata": {},
   "outputs": [
    {
     "data": {
      "text/plain": [
       "<AxesSubplot:xlabel='DATE', ylabel='TMIN'>"
      ]
     },
     "execution_count": 27,
     "metadata": {},
     "output_type": "execute_result"
    },
    {
     "data": {
      "image/png": "[encoded data removed]",
      "text/plain": [
       "<Figure size 432x288 with 1 Axes>"
      ]
     },
     "metadata": {
      "needs_background": "light"
     },
     "output_type": "display_data"
    }
   ],
   "source": [
    "sns.lineplot(data=weather_master_data, x=\"DATE\", y=\"TMIN\", hue='RAIN')"
   ]
  },
  {
   "cell_type": "code",
   "execution_count": 28,
   "metadata": {},
   "outputs": [],
   "source": [
    "rainvsprcp = weather_master_data.groupby(by='RAIN',as_index = False)['PRCP'].agg('mean').sort_values(by ='PRCP', ascending = False)"
   ]
  },
  {
   "cell_type": "code",
   "execution_count": 29,
   "metadata": {},
   "outputs": [
    {
     "data": {
      "text/html": [
       "<div>\n",
       "<style scoped>\n",
       "    .dataframe tbody tr th:only-of-type {\n",
       "        vertical-align: middle;\n",
       "    }\n",
       "\n",
       "    .dataframe tbody tr th {\n",
       "        vertical-align: top;\n",
       "    }\n",
       "\n",
       "    .dataframe thead th {\n",
       "        text-align: right;\n",
       "    }\n",
       "</style>\n",
       "<table border=\"1\" class=\"dataframe\">\n",
       "  <thead>\n",
       "    <tr style=\"text-align: right;\">\n",
       "      <th></th>\n",
       "      <th>RAIN</th>\n",
       "      <th>PRCP</th>\n",
       "    </tr>\n",
       "  </thead>\n",
       "  <tbody>\n",
       "    <tr>\n",
       "      <th>1</th>\n",
       "      <td>True</td>\n",
       "      <td>0.247275</td>\n",
       "    </tr>\n",
       "    <tr>\n",
       "      <th>0</th>\n",
       "      <td>False</td>\n",
       "      <td>0.000000</td>\n",
       "    </tr>\n",
       "  </tbody>\n",
       "</table>\n",
       "</div>"
      ],
      "text/plain": [
       "    RAIN      PRCP\n",
       "1   True  0.247275\n",
       "0  False  0.000000"
      ]
     },
     "execution_count": 29,
     "metadata": {},
     "output_type": "execute_result"
    }
   ],
   "source": [
    "rainvsprcp"
   ]
  },
  {
   "cell_type": "code",
   "execution_count": 30,
   "metadata": {},
   "outputs": [
    {
     "data": {
      "text/plain": [
       "<AxesSubplot:xlabel='PRCP', ylabel='RAIN'>"
      ]
     },
     "execution_count": 30,
     "metadata": {},
     "output_type": "execute_result"
    },
    {
     "data": {
      "image/png": "[encoded data removed]",
      "text/plain": [
       "<Figure size 432x288 with 1 Axes>"
      ]
     },
     "metadata": {
      "needs_background": "light"
     },
     "output_type": "display_data"
    }
   ],
   "source": [
    "sns.barplot(x = 'PRCP', y ='RAIN', data = rainvsprcp)"
   ]
  },
  {
   "cell_type": "code",
   "execution_count": 31,
   "metadata": {},
   "outputs": [],
   "source": [
    "rainvstmax = weather_master_data.groupby(by='RAIN',as_index = False)['TMAX'].agg('mean').sort_values(by ='TMAX', ascending = False)"
   ]
  },
  {
   "cell_type": "code",
   "execution_count": 32,
   "metadata": {},
   "outputs": [
    {
     "data": {
      "text/html": [
       "<div>\n",
       "<style scoped>\n",
       "    .dataframe tbody tr th:only-of-type {\n",
       "        vertical-align: middle;\n",
       "    }\n",
       "\n",
       "    .dataframe tbody tr th {\n",
       "        vertical-align: top;\n",
       "    }\n",
       "\n",
       "    .dataframe thead th {\n",
       "        text-align: right;\n",
       "    }\n",
       "</style>\n",
       "<table border=\"1\" class=\"dataframe\">\n",
       "  <thead>\n",
       "    <tr style=\"text-align: right;\">\n",
       "      <th></th>\n",
       "      <th>RAIN</th>\n",
       "      <th>TMAX</th>\n",
       "    </tr>\n",
       "  </thead>\n",
       "  <tbody>\n",
       "    <tr>\n",
       "      <th>0</th>\n",
       "      <td>False</td>\n",
       "      <td>63.534364</td>\n",
       "    </tr>\n",
       "    <tr>\n",
       "      <th>1</th>\n",
       "      <td>True</td>\n",
       "      <td>53.549325</td>\n",
       "    </tr>\n",
       "  </tbody>\n",
       "</table>\n",
       "</div>"
      ],
      "text/plain": [
       "    RAIN       TMAX\n",
       "0  False  63.534364\n",
       "1   True  53.549325"
      ]
     },
     "execution_count": 32,
     "metadata": {},
     "output_type": "execute_result"
    }
   ],
   "source": [
    "rainvstmax"
   ]
  },
  {
   "cell_type": "code",
   "execution_count": 33,
   "metadata": {},
   "outputs": [
    {
     "data": {
      "text/plain": [
       "<AxesSubplot:xlabel='TMAX', ylabel='RAIN'>"
      ]
     },
     "execution_count": 33,
     "metadata": {},
     "output_type": "execute_result"
    },
    {
     "data": {
      "image/png": "[encoded data removed]",
      "text/plain": [
       "<Figure size 432x288 with 1 Axes>"
      ]
     },
     "metadata": {
      "needs_background": "light"
     },
     "output_type": "display_data"
    }
   ],
   "source": [
    "sns.barplot(x = 'TMAX', y ='RAIN', data = rainvstmax)"
   ]
  },
  {
   "cell_type": "markdown",
   "metadata": {
    "id": "MP7Ggq2PEiqA"
   },
   "source": [
    "**Below are various plots for Numeric feature distribution to get different view point for better data understanding**"
   ]
  },
  {
   "cell_type": "code",
   "execution_count": 34,
   "metadata": {
    "colab": {
     "base_uri": "https://localhost:8080/",
     "height": 1000
    },
    "id": "h1jtrpCDEiqB",
    "outputId": "334f3596-f63b-4098-a63f-ee0b8066a13d"
   },
   "outputs": [
    {
     "data": {
      "text/plain": [
       "<seaborn.axisgrid.PairGrid at 0x15e872cfd60>"
      ]
     },
     "execution_count": 34,
     "metadata": {},
     "output_type": "execute_result"
    },
    {
     "data": {
      "text/plain": [
       "<Figure size 3600x1800 with 0 Axes>"
      ]
     },
     "metadata": {},
     "output_type": "display_data"
    },
    {
     "data": {
      "image/png": "[encoded data removed]",
      "text/plain": [
       "<Figure size 592x540 with 12 Axes>"
      ]
     },
     "metadata": {
      "needs_background": "light"
     },
     "output_type": "display_data"
    }
   ],
   "source": [
    "plt.figure(figsize=(50,25))\n",
    "sns.pairplot(weather_master_data[['PRCP', 'TMAX', 'TMIN', 'RAIN']],palette='rainbow',diag_kind='kde',hue=\"RAIN\")"
   ]
  },
  {
   "cell_type": "code",
   "execution_count": 35,
   "metadata": {
    "colab": {
     "base_uri": "https://localhost:8080/",
     "height": 968
    },
    "id": "vAeUYbETEiqI",
    "outputId": "09b22686-72d9-4bfe-9b55-2ebc2a364ce9"
   },
   "outputs": [
    {
     "data": {
      "text/plain": [
       "Text(0.5, 1.0, 'Correlation between Numerical features and target variable')"
      ]
     },
     "execution_count": 35,
     "metadata": {},
     "output_type": "execute_result"
    },
    {
     "data": {
      "image/png": "[encoded data removed]",
      "text/plain": [
       "<Figure size 1080x1080 with 2 Axes>"
      ]
     },
     "metadata": {
      "needs_background": "light"
     },
     "output_type": "display_data"
    }
   ],
   "source": [
    "#Check corelation primarily between Numerical linear features and target variable\n",
    "#Correlation is a measure used to represent how strongly two random variables are related to each other.\n",
    "#Correlation ranges between -1 and +1\n",
    "corr = weather_master_data.corr(method='pearson')\n",
    "plt.figure(figsize=(15,15))\n",
    "sns.heatmap(corr,vmax=.8,linewidth=.01, square = True, annot = True,cmap='YlGnBu',linecolor ='black')\n",
    "plt.title('Correlation between Numerical features and target variable')"
   ]
  },
  {
   "cell_type": "markdown",
   "metadata": {
    "id": "PUEjjVoREiqI"
   },
   "source": [
    "**Observations:**\n",
    "\n",
    "- There is strong positive correlation for **TMAX** with **TMIN**"
   ]
  },
  {
   "cell_type": "code",
   "execution_count": 36,
   "metadata": {
    "colab": {
     "base_uri": "https://localhost:8080/",
     "height": 565
    },
    "id": "jXkuZ4EXEiqI",
    "outputId": "e536d827-45ab-4b9e-d4a7-20076cf54ae3"
   },
   "outputs": [
    {
     "data": {
      "text/html": [
       "<div>\n",
       "<style scoped>\n",
       "    .dataframe tbody tr th:only-of-type {\n",
       "        vertical-align: middle;\n",
       "    }\n",
       "\n",
       "    .dataframe tbody tr th {\n",
       "        vertical-align: top;\n",
       "    }\n",
       "\n",
       "    .dataframe thead th {\n",
       "        text-align: right;\n",
       "    }\n",
       "</style>\n",
       "<table border=\"1\" class=\"dataframe\">\n",
       "  <thead>\n",
       "    <tr style=\"text-align: right;\">\n",
       "      <th></th>\n",
       "      <th>PRCP</th>\n",
       "      <th>TMAX</th>\n",
       "      <th>TMIN</th>\n",
       "    </tr>\n",
       "  </thead>\n",
       "  <tbody>\n",
       "    <tr>\n",
       "      <th>PRCP</th>\n",
       "      <td>0.055491</td>\n",
       "      <td>-0.688304</td>\n",
       "      <td>-0.136314</td>\n",
       "    </tr>\n",
       "    <tr>\n",
       "      <th>TMAX</th>\n",
       "      <td>-0.688304</td>\n",
       "      <td>161.299221</td>\n",
       "      <td>95.978739</td>\n",
       "    </tr>\n",
       "    <tr>\n",
       "      <th>TMIN</th>\n",
       "      <td>-0.136314</td>\n",
       "      <td>95.978739</td>\n",
       "      <td>78.016529</td>\n",
       "    </tr>\n",
       "  </tbody>\n",
       "</table>\n",
       "</div>"
      ],
      "text/plain": [
       "          PRCP        TMAX       TMIN\n",
       "PRCP  0.055491   -0.688304  -0.136314\n",
       "TMAX -0.688304  161.299221  95.978739\n",
       "TMIN -0.136314   95.978739  78.016529"
      ]
     },
     "execution_count": 36,
     "metadata": {},
     "output_type": "execute_result"
    }
   ],
   "source": [
    "#Covariance is a measure to indicate the extent to which two random variables change in tandem.\n",
    "#Covariance can vary between -∞ and +∞\n",
    "weather_master_data.cov()"
   ]
  },
  {
   "cell_type": "markdown",
   "metadata": {
    "id": "47do_cxsDnU6"
   },
   "source": [
    "<a name = Section7></a>\n",
    "\n",
    "---\n",
    "# **7. Data Post-Processing**\n",
    "---\n",
    "\n"
   ]
  },
  {
   "cell_type": "markdown",
   "metadata": {
    "id": "cG1bbgdYEz43"
   },
   "source": [
    "<a name = Section71></a>\n",
    "### **7.1 Data Encoding**\n",
    "\n",
    "- In this section, we will encode our categorical features as necessary and manipulate any column as necessary"
   ]
  },
  {
   "cell_type": "code",
   "execution_count": 37,
   "metadata": {},
   "outputs": [],
   "source": [
    "weather_master_data.dropna(inplace=True)"
   ]
  },
  {
   "cell_type": "code",
   "execution_count": 38,
   "metadata": {},
   "outputs": [],
   "source": [
    "y_encoded = pd.get_dummies(weather_master_data, columns=['RAIN'], drop_first=True)"
   ]
  },
  {
   "cell_type": "code",
   "execution_count": 39,
   "metadata": {},
   "outputs": [
    {
     "data": {
      "text/html": [
       "<div>\n",
       "<style scoped>\n",
       "    .dataframe tbody tr th:only-of-type {\n",
       "        vertical-align: middle;\n",
       "    }\n",
       "\n",
       "    .dataframe tbody tr th {\n",
       "        vertical-align: top;\n",
       "    }\n",
       "\n",
       "    .dataframe thead th {\n",
       "        text-align: right;\n",
       "    }\n",
       "</style>\n",
       "<table border=\"1\" class=\"dataframe\">\n",
       "  <thead>\n",
       "    <tr style=\"text-align: right;\">\n",
       "      <th></th>\n",
       "      <th>DATE</th>\n",
       "      <th>PRCP</th>\n",
       "      <th>TMAX</th>\n",
       "      <th>TMIN</th>\n",
       "      <th>RAIN_True</th>\n",
       "    </tr>\n",
       "    <tr>\n",
       "      <th>Id</th>\n",
       "      <th></th>\n",
       "      <th></th>\n",
       "      <th></th>\n",
       "      <th></th>\n",
       "      <th></th>\n",
       "    </tr>\n",
       "  </thead>\n",
       "  <tbody>\n",
       "    <tr>\n",
       "      <th>0</th>\n",
       "      <td>1948-01-01</td>\n",
       "      <td>0.47</td>\n",
       "      <td>51</td>\n",
       "      <td>42</td>\n",
       "      <td>1</td>\n",
       "    </tr>\n",
       "    <tr>\n",
       "      <th>1</th>\n",
       "      <td>1948-01-02</td>\n",
       "      <td>0.59</td>\n",
       "      <td>45</td>\n",
       "      <td>36</td>\n",
       "      <td>1</td>\n",
       "    </tr>\n",
       "    <tr>\n",
       "      <th>2</th>\n",
       "      <td>1948-01-03</td>\n",
       "      <td>0.42</td>\n",
       "      <td>45</td>\n",
       "      <td>35</td>\n",
       "      <td>1</td>\n",
       "    </tr>\n",
       "    <tr>\n",
       "      <th>3</th>\n",
       "      <td>1948-01-04</td>\n",
       "      <td>0.31</td>\n",
       "      <td>45</td>\n",
       "      <td>34</td>\n",
       "      <td>1</td>\n",
       "    </tr>\n",
       "    <tr>\n",
       "      <th>4</th>\n",
       "      <td>1948-01-05</td>\n",
       "      <td>0.17</td>\n",
       "      <td>45</td>\n",
       "      <td>32</td>\n",
       "      <td>1</td>\n",
       "    </tr>\n",
       "  </tbody>\n",
       "</table>\n",
       "</div>"
      ],
      "text/plain": [
       "         DATE  PRCP  TMAX  TMIN  RAIN_True\n",
       "Id                                        \n",
       "0  1948-01-01  0.47    51    42          1\n",
       "1  1948-01-02  0.59    45    36          1\n",
       "2  1948-01-03  0.42    45    35          1\n",
       "3  1948-01-04  0.31    45    34          1\n",
       "4  1948-01-05  0.17    45    32          1"
      ]
     },
     "execution_count": 39,
     "metadata": {},
     "output_type": "execute_result"
    }
   ],
   "source": [
    "y_encoded.head()"
   ]
  },
  {
   "cell_type": "code",
   "execution_count": 40,
   "metadata": {},
   "outputs": [
    {
     "data": {
      "text/plain": [
       "False    11771\n",
       "True      8667\n",
       "Name: RAIN, dtype: int64"
      ]
     },
     "execution_count": 40,
     "metadata": {},
     "output_type": "execute_result"
    }
   ],
   "source": [
    "weather_master_data['RAIN'].value_counts()"
   ]
  },
  {
   "cell_type": "code",
   "execution_count": 41,
   "metadata": {},
   "outputs": [
    {
     "data": {
      "text/plain": [
       "0    11771\n",
       "1     8667\n",
       "Name: RAIN_True, dtype: int64"
      ]
     },
     "execution_count": 41,
     "metadata": {},
     "output_type": "execute_result"
    }
   ],
   "source": [
    "y_encoded['RAIN_True'].value_counts()"
   ]
  },
  {
   "cell_type": "code",
   "execution_count": 42,
   "metadata": {},
   "outputs": [
    {
     "name": "stdout",
     "output_type": "stream",
     "text": [
      "<class 'pandas.core.frame.DataFrame'>\n",
      "Int64Index: 20438 entries, 0 to 20439\n",
      "Data columns (total 5 columns):\n",
      " #   Column  Non-Null Count  Dtype         \n",
      "---  ------  --------------  -----         \n",
      " 0   DATE    20438 non-null  datetime64[ns]\n",
      " 1   PRCP    20438 non-null  float64       \n",
      " 2   TMAX    20438 non-null  int64         \n",
      " 3   TMIN    20438 non-null  int64         \n",
      " 4   RAIN    20438 non-null  object        \n",
      "dtypes: datetime64[ns](1), float64(1), int64(2), object(1)\n",
      "memory usage: 958.0+ KB\n"
     ]
    }
   ],
   "source": [
    "weather_master_data.info()"
   ]
  },
  {
   "cell_type": "code",
   "execution_count": 43,
   "metadata": {},
   "outputs": [
    {
     "data": {
      "text/plain": [
       "Id\n",
       "0    1\n",
       "1    1\n",
       "2    1\n",
       "3    1\n",
       "4    1\n",
       "Name: RAIN_True, dtype: uint8"
      ]
     },
     "execution_count": 43,
     "metadata": {},
     "output_type": "execute_result"
    }
   ],
   "source": [
    "y = y_encoded['RAIN_True']\n",
    "weather_master_data.drop(labels=['RAIN'], axis=1, inplace=True)\n",
    "y.head()"
   ]
  },
  {
   "cell_type": "code",
   "execution_count": 44,
   "metadata": {
    "colab": {
     "base_uri": "https://localhost:8080/"
    },
    "id": "xx7LuozHaxWQ",
    "outputId": "e068d030-bdb0-4fd9-eefc-71c7e06b1885"
   },
   "outputs": [
    {
     "name": "stdout",
     "output_type": "stream",
     "text": [
      "<class 'pandas.core.frame.DataFrame'>\n",
      "Int64Index: 20438 entries, 0 to 20439\n",
      "Data columns (total 4 columns):\n",
      " #   Column  Non-Null Count  Dtype         \n",
      "---  ------  --------------  -----         \n",
      " 0   DATE    20438 non-null  datetime64[ns]\n",
      " 1   PRCP    20438 non-null  float64       \n",
      " 2   TMAX    20438 non-null  int64         \n",
      " 3   TMIN    20438 non-null  int64         \n",
      "dtypes: datetime64[ns](1), float64(1), int64(2)\n",
      "memory usage: 798.4 KB\n"
     ]
    }
   ],
   "source": [
    "weather_master_data.info()"
   ]
  },
  {
   "cell_type": "code",
   "execution_count": 45,
   "metadata": {},
   "outputs": [],
   "source": [
    "#weather_master_data['PRCP'].fillna(weather_master_data['PRCP'].mean(), inplace=True)"
   ]
  },
  {
   "cell_type": "code",
   "execution_count": 46,
   "metadata": {},
   "outputs": [
    {
     "name": "stdout",
     "output_type": "stream",
     "text": [
      "<class 'pandas.core.frame.DataFrame'>\n",
      "Int64Index: 20438 entries, 0 to 20439\n",
      "Data columns (total 4 columns):\n",
      " #   Column  Non-Null Count  Dtype         \n",
      "---  ------  --------------  -----         \n",
      " 0   DATE    20438 non-null  datetime64[ns]\n",
      " 1   PRCP    20438 non-null  float64       \n",
      " 2   TMAX    20438 non-null  int64         \n",
      " 3   TMIN    20438 non-null  int64         \n",
      "dtypes: datetime64[ns](1), float64(1), int64(2)\n",
      "memory usage: 798.4 KB\n"
     ]
    }
   ],
   "source": [
    "weather_master_data.info()"
   ]
  },
  {
   "cell_type": "code",
   "execution_count": 47,
   "metadata": {},
   "outputs": [],
   "source": [
    "weather_master_data.drop(labels=['DATE'], axis=1, inplace=True)"
   ]
  },
  {
   "cell_type": "code",
   "execution_count": 48,
   "metadata": {},
   "outputs": [
    {
     "name": "stdout",
     "output_type": "stream",
     "text": [
      "<class 'pandas.core.frame.DataFrame'>\n",
      "Int64Index: 20438 entries, 0 to 20439\n",
      "Data columns (total 3 columns):\n",
      " #   Column  Non-Null Count  Dtype  \n",
      "---  ------  --------------  -----  \n",
      " 0   PRCP    20438 non-null  float64\n",
      " 1   TMAX    20438 non-null  int64  \n",
      " 2   TMIN    20438 non-null  int64  \n",
      "dtypes: float64(1), int64(2)\n",
      "memory usage: 638.7 KB\n"
     ]
    }
   ],
   "source": [
    "weather_master_data.info()"
   ]
  },
  {
   "cell_type": "code",
   "execution_count": 49,
   "metadata": {},
   "outputs": [
    {
     "data": {
      "text/html": [
       "<div>\n",
       "<style scoped>\n",
       "    .dataframe tbody tr th:only-of-type {\n",
       "        vertical-align: middle;\n",
       "    }\n",
       "\n",
       "    .dataframe tbody tr th {\n",
       "        vertical-align: top;\n",
       "    }\n",
       "\n",
       "    .dataframe thead th {\n",
       "        text-align: right;\n",
       "    }\n",
       "</style>\n",
       "<table border=\"1\" class=\"dataframe\">\n",
       "  <thead>\n",
       "    <tr style=\"text-align: right;\">\n",
       "      <th></th>\n",
       "      <th>PRCP</th>\n",
       "      <th>TMAX</th>\n",
       "      <th>TMIN</th>\n",
       "    </tr>\n",
       "    <tr>\n",
       "      <th>Id</th>\n",
       "      <th></th>\n",
       "      <th></th>\n",
       "      <th></th>\n",
       "    </tr>\n",
       "  </thead>\n",
       "  <tbody>\n",
       "    <tr>\n",
       "      <th>0</th>\n",
       "      <td>0.47</td>\n",
       "      <td>51</td>\n",
       "      <td>42</td>\n",
       "    </tr>\n",
       "    <tr>\n",
       "      <th>1</th>\n",
       "      <td>0.59</td>\n",
       "      <td>45</td>\n",
       "      <td>36</td>\n",
       "    </tr>\n",
       "    <tr>\n",
       "      <th>2</th>\n",
       "      <td>0.42</td>\n",
       "      <td>45</td>\n",
       "      <td>35</td>\n",
       "    </tr>\n",
       "    <tr>\n",
       "      <th>3</th>\n",
       "      <td>0.31</td>\n",
       "      <td>45</td>\n",
       "      <td>34</td>\n",
       "    </tr>\n",
       "    <tr>\n",
       "      <th>4</th>\n",
       "      <td>0.17</td>\n",
       "      <td>45</td>\n",
       "      <td>32</td>\n",
       "    </tr>\n",
       "  </tbody>\n",
       "</table>\n",
       "</div>"
      ],
      "text/plain": [
       "    PRCP  TMAX  TMIN\n",
       "Id                  \n",
       "0   0.47    51    42\n",
       "1   0.59    45    36\n",
       "2   0.42    45    35\n",
       "3   0.31    45    34\n",
       "4   0.17    45    32"
      ]
     },
     "execution_count": 49,
     "metadata": {},
     "output_type": "execute_result"
    }
   ],
   "source": [
    "weather_master_data.head()"
   ]
  },
  {
   "cell_type": "code",
   "execution_count": 50,
   "metadata": {},
   "outputs": [],
   "source": [
    "weather_test_data.drop(labels=['DATE'], axis=1, inplace=True)"
   ]
  },
  {
   "cell_type": "code",
   "execution_count": 51,
   "metadata": {},
   "outputs": [
    {
     "name": "stdout",
     "output_type": "stream",
     "text": [
      "<class 'pandas.core.frame.DataFrame'>\n",
      "Int64Index: 5110 entries, 20440 to 25550\n",
      "Data columns (total 3 columns):\n",
      " #   Column  Non-Null Count  Dtype  \n",
      "---  ------  --------------  -----  \n",
      " 0   PRCP    5110 non-null   float64\n",
      " 1   TMAX    5110 non-null   int64  \n",
      " 2   TMIN    5110 non-null   int64  \n",
      "dtypes: float64(1), int64(2)\n",
      "memory usage: 159.7 KB\n"
     ]
    }
   ],
   "source": [
    "weather_test_data.info()"
   ]
  },
  {
   "cell_type": "code",
   "execution_count": 52,
   "metadata": {},
   "outputs": [
    {
     "data": {
      "text/html": [
       "<div>\n",
       "<style scoped>\n",
       "    .dataframe tbody tr th:only-of-type {\n",
       "        vertical-align: middle;\n",
       "    }\n",
       "\n",
       "    .dataframe tbody tr th {\n",
       "        vertical-align: top;\n",
       "    }\n",
       "\n",
       "    .dataframe thead th {\n",
       "        text-align: right;\n",
       "    }\n",
       "</style>\n",
       "<table border=\"1\" class=\"dataframe\">\n",
       "  <thead>\n",
       "    <tr style=\"text-align: right;\">\n",
       "      <th></th>\n",
       "      <th>PRCP</th>\n",
       "      <th>TMAX</th>\n",
       "      <th>TMIN</th>\n",
       "    </tr>\n",
       "    <tr>\n",
       "      <th>Id</th>\n",
       "      <th></th>\n",
       "      <th></th>\n",
       "      <th></th>\n",
       "    </tr>\n",
       "  </thead>\n",
       "  <tbody>\n",
       "    <tr>\n",
       "      <th>20440</th>\n",
       "      <td>0.00</td>\n",
       "      <td>54</td>\n",
       "      <td>37</td>\n",
       "    </tr>\n",
       "    <tr>\n",
       "      <th>20441</th>\n",
       "      <td>0.14</td>\n",
       "      <td>51</td>\n",
       "      <td>38</td>\n",
       "    </tr>\n",
       "    <tr>\n",
       "      <th>20442</th>\n",
       "      <td>0.13</td>\n",
       "      <td>48</td>\n",
       "      <td>44</td>\n",
       "    </tr>\n",
       "    <tr>\n",
       "      <th>20443</th>\n",
       "      <td>0.01</td>\n",
       "      <td>51</td>\n",
       "      <td>38</td>\n",
       "    </tr>\n",
       "    <tr>\n",
       "      <th>20444</th>\n",
       "      <td>0.00</td>\n",
       "      <td>53</td>\n",
       "      <td>35</td>\n",
       "    </tr>\n",
       "  </tbody>\n",
       "</table>\n",
       "</div>"
      ],
      "text/plain": [
       "       PRCP  TMAX  TMIN\n",
       "Id                     \n",
       "20440  0.00    54    37\n",
       "20441  0.14    51    38\n",
       "20442  0.13    48    44\n",
       "20443  0.01    51    38\n",
       "20444  0.00    53    35"
      ]
     },
     "execution_count": 52,
     "metadata": {},
     "output_type": "execute_result"
    }
   ],
   "source": [
    "weather_test_data.head()"
   ]
  },
  {
   "cell_type": "markdown",
   "metadata": {
    "id": "oW7xFVEiEitF"
   },
   "source": [
    "<a name = Section72></a>\n",
    "### **7.2 Data Preparation and Scaling**\n",
    "\n",
    "- Considering we are using KNN Algorithm and feature are not in same unit we need to apply scaling. Will use Pipeline for the same."
   ]
  },
  {
   "cell_type": "code",
   "execution_count": 53,
   "metadata": {},
   "outputs": [
    {
     "name": "stdout",
     "output_type": "stream",
     "text": [
      "Testing Accuracy\n",
      "0.9575342465753425\n",
      "Training Accuracy\n",
      "0.9633350730688935\n",
      "\n",
      "Average Accuracy\n",
      "0.9547879207478978\n"
     ]
    }
   ],
   "source": [
    "from sklearn.pipeline import Pipeline\n",
    "from sklearn.experimental import enable_iterative_imputer\n",
    "from sklearn.impute import IterativeImputer\n",
    "from sklearn.preprocessing import PowerTransformer,StandardScaler\n",
    "from sklearn.neighbors import KNeighborsClassifier\n",
    "from sklearn.model_selection import train_test_split\n",
    "import numpy as np\n",
    "X_train, X_test, y_train, y_test = train_test_split(weather_master_data, y, test_size=0.25,random_state=10)\n",
    "pipe = Pipeline((\n",
    "(\"sc\",StandardScaler()),    \n",
    "(\"knn\",KNeighborsClassifier(n_neighbors=7)) ,    \n",
    "))\n",
    "pipe.fit(X_train,y_train)\n",
    "print(\"Testing Accuracy\")\n",
    "print(pipe.score(X_test,y_test))\n",
    "print(\"Training Accuracy\")\n",
    "print(pipe.score(X_train,y_train))\n",
    "from sklearn.model_selection import cross_val_score\n",
    "scoresknn = cross_val_score(pipe, X_train, y_train, cv=10,scoring='accuracy')\n",
    "print()\n",
    "print(\"Average Accuracy\")\n",
    "print(np.mean(scoresknn))"
   ]
  },
  {
   "cell_type": "code",
   "execution_count": 54,
   "metadata": {},
   "outputs": [],
   "source": [
    "test_pred = pipe.predict(weather_test_data)"
   ]
  },
  {
   "cell_type": "markdown",
   "metadata": {
    "id": "VTDUtk4ZE9NQ"
   },
   "source": [
    "<a name = Section73></a>\n",
    "### **7.3 Data Preparation**\n",
    "\n",
    "- Now we will **split** our **data** into **dependent** and **independent** variables for further development using holdout validation technique."
   ]
  },
  {
   "cell_type": "code",
   "execution_count": 55,
   "metadata": {
    "colab": {
     "base_uri": "https://localhost:8080/",
     "height": 1000
    },
    "id": "5J3OJTe-E9st",
    "outputId": "13c16dc0-d142-4108-d5cc-eabba9b4fea3",
    "scrolled": false
   },
   "outputs": [
    {
     "name": "stdout",
     "output_type": "stream",
     "text": [
      "X_train shape:  (15328, 3)\n",
      "y_train shape:  (15328,)\n",
      "X_test shape:  (5110, 3)\n",
      "y_test shape:  (5110,)\n",
      "<class 'pandas.core.frame.DataFrame'>\n",
      "Int64Index: 15328 entries, 6517 to 9977\n",
      "Data columns (total 3 columns):\n",
      " #   Column  Non-Null Count  Dtype  \n",
      "---  ------  --------------  -----  \n",
      " 0   PRCP    15328 non-null  float64\n",
      " 1   TMAX    15328 non-null  int64  \n",
      " 2   TMIN    15328 non-null  int64  \n",
      "dtypes: float64(1), int64(2)\n",
      "memory usage: 479.0 KB\n"
     ]
    },
    {
     "data": {
      "text/html": [
       "<div>\n",
       "<style scoped>\n",
       "    .dataframe tbody tr th:only-of-type {\n",
       "        vertical-align: middle;\n",
       "    }\n",
       "\n",
       "    .dataframe tbody tr th {\n",
       "        vertical-align: top;\n",
       "    }\n",
       "\n",
       "    .dataframe thead th {\n",
       "        text-align: right;\n",
       "    }\n",
       "</style>\n",
       "<table border=\"1\" class=\"dataframe\">\n",
       "  <thead>\n",
       "    <tr style=\"text-align: right;\">\n",
       "      <th></th>\n",
       "      <th>PRCP</th>\n",
       "      <th>TMAX</th>\n",
       "      <th>TMIN</th>\n",
       "    </tr>\n",
       "    <tr>\n",
       "      <th>Id</th>\n",
       "      <th></th>\n",
       "      <th></th>\n",
       "      <th></th>\n",
       "    </tr>\n",
       "  </thead>\n",
       "  <tbody>\n",
       "    <tr>\n",
       "      <th>6517</th>\n",
       "      <td>0.51</td>\n",
       "      <td>54</td>\n",
       "      <td>48</td>\n",
       "    </tr>\n",
       "    <tr>\n",
       "      <th>1831</th>\n",
       "      <td>0.00</td>\n",
       "      <td>47</td>\n",
       "      <td>31</td>\n",
       "    </tr>\n",
       "    <tr>\n",
       "      <th>7776</th>\n",
       "      <td>0.06</td>\n",
       "      <td>57</td>\n",
       "      <td>43</td>\n",
       "    </tr>\n",
       "    <tr>\n",
       "      <th>3998</th>\n",
       "      <td>0.00</td>\n",
       "      <td>49</td>\n",
       "      <td>39</td>\n",
       "    </tr>\n",
       "    <tr>\n",
       "      <th>15236</th>\n",
       "      <td>0.00</td>\n",
       "      <td>70</td>\n",
       "      <td>48</td>\n",
       "    </tr>\n",
       "  </tbody>\n",
       "</table>\n",
       "</div>"
      ],
      "text/plain": [
       "       PRCP  TMAX  TMIN\n",
       "Id                     \n",
       "6517   0.51    54    48\n",
       "1831   0.00    47    31\n",
       "7776   0.06    57    43\n",
       "3998   0.00    49    39\n",
       "15236  0.00    70    48"
      ]
     },
     "execution_count": 55,
     "metadata": {},
     "output_type": "execute_result"
    }
   ],
   "source": [
    "# Splitting data into training and testing sets with using Validation Test Data as 25%\n",
    "X_train, X_test, y_train, y_test = train_test_split(weather_master_data, y, test_size=0.25, random_state=42, stratify=y)\n",
    "\n",
    "# Display the shape of training and testing data\n",
    "print('X_train shape: ', X_train.shape)\n",
    "print('y_train shape: ', y_train.shape)\n",
    "print('X_test shape: ', X_test.shape)\n",
    "print('y_test shape: ', y_test.shape)\n",
    "X_train.info()\n",
    "#X_train.columns\n",
    "X_train.head()"
   ]
  },
  {
   "cell_type": "code",
   "execution_count": 56,
   "metadata": {},
   "outputs": [
    {
     "data": {
      "text/plain": [
       "GridSearchCV(cv=10,\n",
       "             estimator=Pipeline(steps=[('scale', StandardScaler()),\n",
       "                                       ('transform', PowerTransformer()),\n",
       "                                       ('knn',\n",
       "                                        KNeighborsClassifier(n_jobs=-1))]),\n",
       "             param_grid={'knn__n_neighbors': [1, 2, 3, 4, 5, 6, 7, 8, 9, 10]})"
      ]
     },
     "execution_count": 56,
     "metadata": {},
     "output_type": "execute_result"
    }
   ],
   "source": [
    "from sklearn.pipeline import Pipeline\n",
    "from sklearn.preprocessing import PowerTransformer\n",
    "from sklearn.model_selection import cross_val_score\n",
    "from sklearn.neighbors import KNeighborsClassifier\n",
    "from sklearn.metrics import mean_absolute_error, mean_squared_error\n",
    "from sklearn.model_selection import GridSearchCV    \n",
    "pipe = Pipeline(steps=[(\"scale\", StandardScaler()),\n",
    "                       (\"transform\", PowerTransformer()),\n",
    "(\"knn\", KNeighborsClassifier(n_jobs=-1))])\n",
    "\n",
    "param_grid = {\n",
    "    'knn__n_neighbors' : [1,2,3,4,5,6,7,8,9,10]\n",
    "}\n",
    "\n",
    "search = GridSearchCV(pipe,param_grid,cv=10)\n",
    "search.fit(X_train,y_train)"
   ]
  },
  {
   "cell_type": "code",
   "execution_count": 57,
   "metadata": {},
   "outputs": [
    {
     "data": {
      "text/plain": [
       "{'knn__n_neighbors': 1}"
      ]
     },
     "execution_count": 57,
     "metadata": {},
     "output_type": "execute_result"
    }
   ],
   "source": [
    "search.best_params_"
   ]
  },
  {
   "cell_type": "code",
   "execution_count": 58,
   "metadata": {},
   "outputs": [
    {
     "data": {
      "text/plain": [
       "0.9991518618248831"
      ]
     },
     "execution_count": 58,
     "metadata": {},
     "output_type": "execute_result"
    }
   ],
   "source": [
    "search.best_score_"
   ]
  },
  {
   "cell_type": "markdown",
   "metadata": {
    "id": "K-mvuWsNFAYJ"
   },
   "source": [
    "<a name = Section8></a>\n",
    "\n",
    "---\n",
    "# **8. Model Development & Evaluation**\n",
    "---\n",
    "\n",
    "- In this section we will **develop a KNN Classification model**\n",
    "\n",
    "- Then we will **analyze the results** obtained and **make our observations**.\n",
    "\n",
    "- For **evaluation purpose** we will **focus** on **Accuracy Score** score as required by this project."
   ]
  },
  {
   "cell_type": "markdown",
   "metadata": {
    "id": "susmBGv8TOPl"
   },
   "source": [
    "<a name = Section81></a>\n",
    "### **8.1 Baseline Model Development & Evaluation**\n",
    "\n",
    "- Here we will develop Logistic Regression classification model using default setting."
   ]
  },
  {
   "cell_type": "code",
   "execution_count": 59,
   "metadata": {
    "colab": {
     "base_uri": "https://localhost:8080/",
     "height": 462
    },
    "id": "aA5BQH1tE9pR",
    "outputId": "3e866eaf-8e2c-4afb-affb-6a845126075d"
   },
   "outputs": [
    {
     "name": "stdout",
     "output_type": "stream",
     "text": [
      "[0.99934768 1.         0.99739074 0.99934768 0.99739074 0.99934768\n",
      " 0.99934768 0.99739074 0.99869452 0.99869452]\n",
      "Average Accuracy\n",
      "0.9986951982409616\n"
     ]
    }
   ],
   "source": [
    "knn_pipe = Pipeline(steps=[(\"scale\", StandardScaler()),\n",
    "                       (\"transform\", PowerTransformer()),\n",
    "(\"knn\", KNeighborsClassifier(n_neighbors=3,n_jobs=-1))])\n",
    "\n",
    "knn_pipe.fit(X_train, y_train)\n",
    "cv_score= cross_val_score(knn_pipe, X_train, y_train, cv=10, scoring='accuracy')\n",
    "print(cv_score)\n",
    "print(\"Average Accuracy\")\n",
    "print(np.mean(cv_score))"
   ]
  },
  {
   "cell_type": "code",
   "execution_count": 60,
   "metadata": {},
   "outputs": [],
   "source": [
    "test_pred2 = knn_pipe.predict(weather_test_data)"
   ]
  },
  {
   "cell_type": "code",
   "execution_count": 61,
   "metadata": {
    "id": "UrLD7eBtEitK"
   },
   "outputs": [],
   "source": [
    "output = pd.DataFrame({'Id': weather_test_data.index,'RAIN_True': test_pred})\n",
    "output.to_csv('seattle-weather-prediction-submission1.csv', index=False, header=False)"
   ]
  },
  {
   "cell_type": "code",
   "execution_count": 62,
   "metadata": {},
   "outputs": [],
   "source": [
    "output = pd.DataFrame({'Id': weather_test_data.index,'RAIN_True': test_pred2})\n",
    "output.to_csv('seattle-weather-prediction-submission2.csv', index=False, header=False)"
   ]
  },
  {
   "cell_type": "markdown",
   "metadata": {
    "id": "_H3bOK6bXgb7"
   },
   "source": [
    "<a name = Section9></a>\n",
    "\n",
    "---\n",
    "# **9. Summarization**\n",
    "---"
   ]
  },
  {
   "cell_type": "markdown",
   "metadata": {
    "id": "HFqTdgNaXix8"
   },
   "source": [
    "<a name = Section91></a>\n",
    "### **9.1 Conclusion**\n",
    "\n",
    "- KNN Classification Model was used for prediction considering this is ML Advanced project.\n",
    "- Accuracy Score was used to arrive at model evaluation which is required for this ML Advanced Project."
   ]
  }
 ],
 "metadata": {
  "colab": {
   "collapsed_sections": [],
   "name": "Customer_classification.ipynb",
   "provenance": []
  },
  "kernelspec": {
   "display_name": "Python 3",
   "language": "python",
   "name": "python3"
  },
  "language_info": {
   "codemirror_mode": {
    "name": "ipython",
    "version": 3
   },
   "file_extension": ".py",
   "mimetype": "text/x-python",
   "name": "python",
   "nbconvert_exporter": "python",
   "pygments_lexer": "ipython3",
   "version": "3.8.5"
  }
 },
 "nbformat": 4,
 "nbformat_minor": 1
}
